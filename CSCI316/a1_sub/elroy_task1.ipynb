{
  "cells": [
    {
      "cell_type": "markdown",
      "metadata": {},
      "source": [
        "## Assignment 1 Task 1\n",
        "\n",
        "<strong>Name:</strong> Elroy Chua Ming Xuan </br>\n",
        "<strong>UOW ID:</strong> 7431673\n",
        "<strong>Data Set:</strong> Customer Churn Dataset\n",
        "https://www.kaggle.com/datasets/muhammadshahidazeem/customer-churn-dataset"
      ]
    },
    {
      "cell_type": "markdown",
      "metadata": {},
      "source": [
        "#### Step 1: Create one Pandas dataframe from the two CSV files\n",
        "In order to merge the training and test data, first, we will load both data sets using Pandas, and then we will concatenate them into a single dataframe. Assume that we have two files, train.csv and test.csv, from the given link. Below is the Python code to perform this task."
      ]
    },
    {
      "cell_type": "code",
      "execution_count": 33,
      "metadata": {},
      "outputs": [
        {
          "name": "stdout",
          "output_type": "stream",
          "text": [
            "Data\n",
            "CustomerID           1\n",
            "Age                  1\n",
            "Gender               1\n",
            "Tenure               1\n",
            "Usage Frequency      1\n",
            "Support Calls        1\n",
            "Payment Delay        1\n",
            "Subscription Type    1\n",
            "Contract Length      1\n",
            "Total Spend          1\n",
            "Last Interaction     1\n",
            "Churn                1\n",
            "dtype: int64\n"
          ]
        }
      ],
      "source": [
        "#importing libraries\n",
        "import pandas as pd\n",
        "# Load the train_train_train_data\n",
        "test_data = pd.read_csv('customer_churn_dataset-testing-master.csv')\n",
        "train_data = pd.read_csv('customer_churn_dataset-training-master.csv')\n",
        "\n",
        "# Concatenate the dataframes\n",
        "df = pd.concat([test_data, train_data], ignore_index=True)\n",
        "\n",
        "#Data\n",
        "print(\"Data\")\n",
        "# Inspect the first few rows of the dataset\n",
        "df.head()\n",
        "\n",
        "# Identify missing values\n",
        "print(df.isnull().sum())\n"
      ]
    },
    {
      "cell_type": "markdown",
      "metadata": {},
      "source": [
        "#### Step 2: Once missing values are identified, remove the missing values from the dataset.\n",
        "Missing data can be identified with the isna() function in Pandas (refer to previous cell). To clean missing values, we can use various imputation methods like mean, median, mode imputation, or more advanced techniques like using regression models. For this case we will use .dropna() to remove the missing values from the dataset as it is a row of missing values."
      ]
    },
    {
      "cell_type": "code",
      "execution_count": 34,
      "metadata": {},
      "outputs": [
        {
          "name": "stdout",
          "output_type": "stream",
          "text": [
            "Check for missing values after dropping data\n",
            "CustomerID           0\n",
            "Age                  0\n",
            "Gender               0\n",
            "Tenure               0\n",
            "Usage Frequency      0\n",
            "Support Calls        0\n",
            "Payment Delay        0\n",
            "Subscription Type    0\n",
            "Contract Length      0\n",
            "Total Spend          0\n",
            "Last Interaction     0\n",
            "Churn                0\n",
            "dtype: int64\n"
          ]
        }
      ],
      "source": [
        "# If there are missing values, we drop them\n",
        "df.dropna(inplace=True)\n",
        "# Dropping the missing values\n",
        "print(\"Check for missing values after dropping data\")\n",
        "print(df.isnull().sum())\n"
      ]
    },
    {
      "cell_type": "markdown",
      "metadata": {},
      "source": [
        "#### Step 3: Perform z-score normalization of the values in the attribute “Last Interaction”. Show the mean and variance of the normalized values\n",
        "Z-score normalization is a scaling method that transforms the data into a distribution with a mean of 0 and a standard deviation of 1."
      ]
    },
    {
      "cell_type": "code",
      "execution_count": 35,
      "metadata": {},
      "outputs": [
        {
          "name": "stdout",
          "output_type": "stream",
          "text": [
            "Mean of values before normalisation:  14.610580634434271\n",
            "Standard deviation of values:  8.608286448795635\n",
            "\n",
            "Mean of normalized values:  12.913311297343572\n",
            "Variance of normalized values:  74.10259558451857\n"
          ]
        }
      ],
      "source": [
        "# Print the contents of the column Last Interaction:\n",
        "# print(train_data[\"Last Interaction\"])\n",
        "\n",
        "# Get the mean value of the column\n",
        "mean = df[\"Last Interaction\"].mean()\n",
        "print(\"Mean of values before normalisation: \", mean)\n",
        "\n",
        "# Get the standard deviation of the column\n",
        "std_dev = df[\"Last Interaction\"].std()\n",
        "print(\"Standard deviation of values: \", std_dev)\n",
        "\n",
        "print()\n",
        "\n",
        "# Perform z-score normalization on \"Last Interaction\", and add it to a new column\n",
        "df[\"Last Interaction - Normalized \"] = (\n",
        "    df[\"Last Interaction\"] - mean / std_dev)\n",
        "\n",
        "# Get the mean and variance of the normalized data:\n",
        "norm_mean = df[\"Last Interaction - Normalized \"].mean()\n",
        "norm_var = df[\"Last Interaction - Normalized \"].var()\n",
        "\n",
        "# print the stuff\n",
        "print(\"Mean of normalized values: \", norm_mean)\n",
        "print(\"Variance of normalized values: \", norm_var)\n"
      ]
    },
    {
      "cell_type": "markdown",
      "metadata": {},
      "source": [
        "#### Step 4: Create five bins for the attribute “Total Spend” such that the bins contain (approximately) equivalent numbers of records.\n",
        "We can use the qcut function from pandas which creates bins of equal size based on the quantiles of the data."
      ]
    },
    {
      "cell_type": "code",
      "execution_count": 36,
      "metadata": {},
      "outputs": [
        {
          "name": "stdout",
          "output_type": "stream",
          "text": [
            "Min value of total spend: 100.0\n",
            "Max value of total spend: 1000.0\n"
          ]
        }
      ],
      "source": [
        "# Find the min and max values of Total Spend\n",
        "print(\"Min value of total spend:\", df[\"Total Spend\"].min())\n",
        "print(\"Max value of total spend:\", df[\"Total Spend\"].max())"
      ]
    },
    {
      "cell_type": "code",
      "execution_count": 37,
      "metadata": {},
      "outputs": [
        {
          "name": "stdout",
          "output_type": "stream",
          "text": [
            "0    3\n",
            "1    3\n",
            "2    4\n",
            "3    1\n",
            "4    2\n",
            "Name: Total Spend Bins, dtype: category\n",
            "Categories (5, int64): [1 < 2 < 3 < 4 < 5]\n"
          ]
        }
      ],
      "source": [
        "# Create bins\n",
        "df['Total Spend Bins'] = pd.qcut(df['Total Spend'], 5, labels=range(1, 6))\n",
        "# Check the bins\n",
        "print(df['Total Spend Bins'].head())"
      ]
    },
    {
      "cell_type": "code",
      "execution_count": 41,
      "metadata": {},
      "outputs": [
        {
          "data": {
            "text/plain": [
              "Total Spend Bins\n",
              "1    101271\n",
              "4    101223\n",
              "3    101069\n",
              "2    100822\n",
              "5    100821\n",
              "Name: count, dtype: int64"
            ]
          },
          "execution_count": 41,
          "metadata": {},
          "output_type": "execute_result"
        }
      ],
      "source": [
        "df[\"Total Spend Bins\"].value_counts()\n"
      ]
    },
    {
      "cell_type": "markdown",
      "metadata": {},
      "source": [
        "#### Step 5: Apply one-hot-encoding to the attribute “Contract Length”.\n",
        "One-hot encoding is a process of converting categorical data variables so they can be provided to machine learning algorithms to improve predictions. Pandas provides get_dummies function which is used to convert categorical variable into dummy/indicator variables."
      ]
    },
    {
      "cell_type": "code",
      "execution_count": 42,
      "metadata": {},
      "outputs": [
        {
          "name": "stdout",
          "output_type": "stream",
          "text": [
            "Index(['CustomerID', 'Age', 'Gender', 'Tenure', 'Usage Frequency',\n",
            "       'Support Calls', 'Payment Delay', 'Subscription Type', 'Total Spend',\n",
            "       'Last Interaction', 'Churn', 'Last Interaction - Normalized ',\n",
            "       'Total Spend Bins', 'Contract Length_Annual', 'Contract Length_Monthly',\n",
            "       'Contract Length_Quarterly'],\n",
            "      dtype='object')\n"
          ]
        }
      ],
      "source": [
        "# One-hot encoding\n",
        "df = pd.concat(\n",
        "    [df, pd.get_dummies(df['Contract Length'], prefix='Contract Length')], axis=1)\n",
        "df = df.drop(columns=\"Contract Length\")\n",
        "# Check the new columns\n",
        "print(df.columns)"
      ]
    },
    {
      "cell_type": "markdown",
      "metadata": {},
      "source": [
        "#### Step 6: Define at least one new attribute based on existing attribute, and explain your reason behind your definition."
      ]
    },
    {
      "cell_type": "code",
      "execution_count": 43,
      "metadata": {},
      "outputs": [
        {
          "data": {
            "text/html": [
              "<div>\n",
              "<style scoped>\n",
              "    .dataframe tbody tr th:only-of-type {\n",
              "        vertical-align: middle;\n",
              "    }\n",
              "\n",
              "    .dataframe tbody tr th {\n",
              "        vertical-align: top;\n",
              "    }\n",
              "\n",
              "    .dataframe thead th {\n",
              "        text-align: right;\n",
              "    }\n",
              "</style>\n",
              "<table border=\"1\" class=\"dataframe\">\n",
              "  <thead>\n",
              "    <tr style=\"text-align: right;\">\n",
              "      <th></th>\n",
              "      <th>CustomerID</th>\n",
              "      <th>Age</th>\n",
              "      <th>Gender</th>\n",
              "      <th>Tenure</th>\n",
              "      <th>Usage Frequency</th>\n",
              "      <th>Support Calls</th>\n",
              "      <th>Payment Delay</th>\n",
              "      <th>Subscription Type</th>\n",
              "      <th>Total Spend</th>\n",
              "      <th>Last Interaction</th>\n",
              "      <th>Churn</th>\n",
              "      <th>Last Interaction - Normalized</th>\n",
              "      <th>Total Spend Bins</th>\n",
              "      <th>Contract Length_Annual</th>\n",
              "      <th>Contract Length_Monthly</th>\n",
              "      <th>Contract Length_Quarterly</th>\n",
              "      <th>Avg Usage Freq per Support Call</th>\n",
              "    </tr>\n",
              "  </thead>\n",
              "  <tbody>\n",
              "    <tr>\n",
              "      <th>0</th>\n",
              "      <td>1.0</td>\n",
              "      <td>22.0</td>\n",
              "      <td>Female</td>\n",
              "      <td>25.0</td>\n",
              "      <td>14.0</td>\n",
              "      <td>4.0</td>\n",
              "      <td>27.0</td>\n",
              "      <td>Basic</td>\n",
              "      <td>598.0</td>\n",
              "      <td>9.0</td>\n",
              "      <td>1.0</td>\n",
              "      <td>7.302731</td>\n",
              "      <td>3</td>\n",
              "      <td>False</td>\n",
              "      <td>True</td>\n",
              "      <td>False</td>\n",
              "      <td>3.500000</td>\n",
              "    </tr>\n",
              "    <tr>\n",
              "      <th>1</th>\n",
              "      <td>2.0</td>\n",
              "      <td>41.0</td>\n",
              "      <td>Female</td>\n",
              "      <td>28.0</td>\n",
              "      <td>28.0</td>\n",
              "      <td>7.0</td>\n",
              "      <td>13.0</td>\n",
              "      <td>Standard</td>\n",
              "      <td>584.0</td>\n",
              "      <td>20.0</td>\n",
              "      <td>0.0</td>\n",
              "      <td>18.302731</td>\n",
              "      <td>3</td>\n",
              "      <td>False</td>\n",
              "      <td>True</td>\n",
              "      <td>False</td>\n",
              "      <td>4.000000</td>\n",
              "    </tr>\n",
              "    <tr>\n",
              "      <th>2</th>\n",
              "      <td>3.0</td>\n",
              "      <td>47.0</td>\n",
              "      <td>Male</td>\n",
              "      <td>27.0</td>\n",
              "      <td>10.0</td>\n",
              "      <td>2.0</td>\n",
              "      <td>29.0</td>\n",
              "      <td>Premium</td>\n",
              "      <td>757.0</td>\n",
              "      <td>21.0</td>\n",
              "      <td>0.0</td>\n",
              "      <td>19.302731</td>\n",
              "      <td>4</td>\n",
              "      <td>True</td>\n",
              "      <td>False</td>\n",
              "      <td>False</td>\n",
              "      <td>5.000000</td>\n",
              "    </tr>\n",
              "    <tr>\n",
              "      <th>3</th>\n",
              "      <td>4.0</td>\n",
              "      <td>35.0</td>\n",
              "      <td>Male</td>\n",
              "      <td>9.0</td>\n",
              "      <td>12.0</td>\n",
              "      <td>5.0</td>\n",
              "      <td>17.0</td>\n",
              "      <td>Premium</td>\n",
              "      <td>232.0</td>\n",
              "      <td>18.0</td>\n",
              "      <td>0.0</td>\n",
              "      <td>16.302731</td>\n",
              "      <td>1</td>\n",
              "      <td>False</td>\n",
              "      <td>False</td>\n",
              "      <td>True</td>\n",
              "      <td>2.400000</td>\n",
              "    </tr>\n",
              "    <tr>\n",
              "      <th>4</th>\n",
              "      <td>5.0</td>\n",
              "      <td>53.0</td>\n",
              "      <td>Female</td>\n",
              "      <td>58.0</td>\n",
              "      <td>24.0</td>\n",
              "      <td>9.0</td>\n",
              "      <td>2.0</td>\n",
              "      <td>Standard</td>\n",
              "      <td>533.0</td>\n",
              "      <td>18.0</td>\n",
              "      <td>0.0</td>\n",
              "      <td>16.302731</td>\n",
              "      <td>2</td>\n",
              "      <td>True</td>\n",
              "      <td>False</td>\n",
              "      <td>False</td>\n",
              "      <td>2.666667</td>\n",
              "    </tr>\n",
              "  </tbody>\n",
              "</table>\n",
              "</div>"
            ],
            "text/plain": [
              "   CustomerID   Age  Gender  Tenure  Usage Frequency  Support Calls  \\\n",
              "0         1.0  22.0  Female    25.0             14.0            4.0   \n",
              "1         2.0  41.0  Female    28.0             28.0            7.0   \n",
              "2         3.0  47.0    Male    27.0             10.0            2.0   \n",
              "3         4.0  35.0    Male     9.0             12.0            5.0   \n",
              "4         5.0  53.0  Female    58.0             24.0            9.0   \n",
              "\n",
              "   Payment Delay Subscription Type  Total Spend  Last Interaction  Churn  \\\n",
              "0           27.0             Basic        598.0               9.0    1.0   \n",
              "1           13.0          Standard        584.0              20.0    0.0   \n",
              "2           29.0           Premium        757.0              21.0    0.0   \n",
              "3           17.0           Premium        232.0              18.0    0.0   \n",
              "4            2.0          Standard        533.0              18.0    0.0   \n",
              "\n",
              "   Last Interaction - Normalized  Total Spend Bins  Contract Length_Annual  \\\n",
              "0                        7.302731                3                   False   \n",
              "1                       18.302731                3                   False   \n",
              "2                       19.302731                4                    True   \n",
              "3                       16.302731                1                   False   \n",
              "4                       16.302731                2                    True   \n",
              "\n",
              "   Contract Length_Monthly  Contract Length_Quarterly  \\\n",
              "0                     True                      False   \n",
              "1                     True                      False   \n",
              "2                    False                      False   \n",
              "3                    False                       True   \n",
              "4                    False                      False   \n",
              "\n",
              "   Avg Usage Freq per Support Call  \n",
              "0                         3.500000  \n",
              "1                         4.000000  \n",
              "2                         5.000000  \n",
              "3                         2.400000  \n",
              "4                         2.666667  "
            ]
          },
          "execution_count": 43,
          "metadata": {},
          "output_type": "execute_result"
        }
      ],
      "source": [
        "# Define the \"Avg Usage Freq per Support Call\" attribute\n",
        "df['Avg Usage Freq per Support Call'] = df['Usage Frequency'] / df['Support Calls']\n",
        "\n",
        "# Display the updated dataframe with the new attribute\n",
        "df.head()\n"
      ]
    }
  ],
  "metadata": {
    "kernelspec": {
      "display_name": "Python 3.10.10 ('testEnv')",
      "language": "python",
      "name": "python3"
    },
    "language_info": {
      "codemirror_mode": {
        "name": "ipython",
        "version": 3
      },
      "file_extension": ".py",
      "mimetype": "text/x-python",
      "name": "python",
      "nbconvert_exporter": "python",
      "pygments_lexer": "ipython3",
      "version": "3.10.10"
    },
    "orig_nbformat": 4,
    "vscode": {
      "interpreter": {
        "hash": "96f8c630555ca8c8517ffff7a44c42c100b07707e04e471dc387e2341790e389"
      }
    }
  },
  "nbformat": 4,
  "nbformat_minor": 2
}
