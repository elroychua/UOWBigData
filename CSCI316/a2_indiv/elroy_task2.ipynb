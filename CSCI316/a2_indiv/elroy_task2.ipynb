{
 "cells": [
  {
   "cell_type": "markdown",
   "metadata": {},
   "source": [
    "## Assignment 2 Task 2\n",
    "\n",
    "<strong>Name:</strong> Elroy Chua Ming Xuan </br>\n",
    "<strong>UOW ID: </strong> 7431673 </br>\n",
    "<strong>Data set: </strong> https://archive.ics.uci.edu/dataset/159/magic+gamma+telescope"
   ]
  },
  {
   "cell_type": "markdown",
   "metadata": {},
   "source": [
    "#### Step 1: Preprocessing and Data Visualisation"
   ]
  },
  {
   "cell_type": "code",
   "execution_count": 13,
   "metadata": {},
   "outputs": [],
   "source": [
    "#import libraries\n",
    "import pandas as pd\n",
    "import numpy as np\n",
    "import tensorflow as tf\n",
    "from tensorflow import keras"
   ]
  },
  {
   "cell_type": "code",
   "execution_count": 32,
   "metadata": {},
   "outputs": [
    {
     "data": {
      "text/html": [
       "<div>\n",
       "<style scoped>\n",
       "    .dataframe tbody tr th:only-of-type {\n",
       "        vertical-align: middle;\n",
       "    }\n",
       "\n",
       "    .dataframe tbody tr th {\n",
       "        vertical-align: top;\n",
       "    }\n",
       "\n",
       "    .dataframe thead th {\n",
       "        text-align: right;\n",
       "    }\n",
       "</style>\n",
       "<table border=\"1\" class=\"dataframe\">\n",
       "  <thead>\n",
       "    <tr style=\"text-align: right;\">\n",
       "      <th></th>\n",
       "      <th>0</th>\n",
       "      <th>1</th>\n",
       "      <th>2</th>\n",
       "      <th>3</th>\n",
       "      <th>4</th>\n",
       "      <th>5</th>\n",
       "      <th>6</th>\n",
       "      <th>7</th>\n",
       "      <th>8</th>\n",
       "      <th>9</th>\n",
       "      <th>10</th>\n",
       "    </tr>\n",
       "  </thead>\n",
       "  <tbody>\n",
       "    <tr>\n",
       "      <th>0</th>\n",
       "      <td>28.7967</td>\n",
       "      <td>16.0021</td>\n",
       "      <td>2.6449</td>\n",
       "      <td>0.3918</td>\n",
       "      <td>0.1982</td>\n",
       "      <td>27.7004</td>\n",
       "      <td>22.0110</td>\n",
       "      <td>-8.2027</td>\n",
       "      <td>40.0920</td>\n",
       "      <td>81.8828</td>\n",
       "      <td>g</td>\n",
       "    </tr>\n",
       "    <tr>\n",
       "      <th>1</th>\n",
       "      <td>31.6036</td>\n",
       "      <td>11.7235</td>\n",
       "      <td>2.5185</td>\n",
       "      <td>0.5303</td>\n",
       "      <td>0.3773</td>\n",
       "      <td>26.2722</td>\n",
       "      <td>23.8238</td>\n",
       "      <td>-9.9574</td>\n",
       "      <td>6.3609</td>\n",
       "      <td>205.2610</td>\n",
       "      <td>g</td>\n",
       "    </tr>\n",
       "    <tr>\n",
       "      <th>2</th>\n",
       "      <td>162.0520</td>\n",
       "      <td>136.0310</td>\n",
       "      <td>4.0612</td>\n",
       "      <td>0.0374</td>\n",
       "      <td>0.0187</td>\n",
       "      <td>116.7410</td>\n",
       "      <td>-64.8580</td>\n",
       "      <td>-45.2160</td>\n",
       "      <td>76.9600</td>\n",
       "      <td>256.7880</td>\n",
       "      <td>g</td>\n",
       "    </tr>\n",
       "    <tr>\n",
       "      <th>3</th>\n",
       "      <td>23.8172</td>\n",
       "      <td>9.5728</td>\n",
       "      <td>2.3385</td>\n",
       "      <td>0.6147</td>\n",
       "      <td>0.3922</td>\n",
       "      <td>27.2107</td>\n",
       "      <td>-6.4633</td>\n",
       "      <td>-7.1513</td>\n",
       "      <td>10.4490</td>\n",
       "      <td>116.7370</td>\n",
       "      <td>g</td>\n",
       "    </tr>\n",
       "    <tr>\n",
       "      <th>4</th>\n",
       "      <td>75.1362</td>\n",
       "      <td>30.9205</td>\n",
       "      <td>3.1611</td>\n",
       "      <td>0.3168</td>\n",
       "      <td>0.1832</td>\n",
       "      <td>-5.5277</td>\n",
       "      <td>28.5525</td>\n",
       "      <td>21.8393</td>\n",
       "      <td>4.6480</td>\n",
       "      <td>356.4620</td>\n",
       "      <td>g</td>\n",
       "    </tr>\n",
       "  </tbody>\n",
       "</table>\n",
       "</div>"
      ],
      "text/plain": [
       "         0         1       2       3       4         5        6        7   \\\n",
       "0   28.7967   16.0021  2.6449  0.3918  0.1982   27.7004  22.0110  -8.2027   \n",
       "1   31.6036   11.7235  2.5185  0.5303  0.3773   26.2722  23.8238  -9.9574   \n",
       "2  162.0520  136.0310  4.0612  0.0374  0.0187  116.7410 -64.8580 -45.2160   \n",
       "3   23.8172    9.5728  2.3385  0.6147  0.3922   27.2107  -6.4633  -7.1513   \n",
       "4   75.1362   30.9205  3.1611  0.3168  0.1832   -5.5277  28.5525  21.8393   \n",
       "\n",
       "        8         9  10  \n",
       "0  40.0920   81.8828  g  \n",
       "1   6.3609  205.2610  g  \n",
       "2  76.9600  256.7880  g  \n",
       "3  10.4490  116.7370  g  \n",
       "4   4.6480  356.4620  g  "
      ]
     },
     "execution_count": 32,
     "metadata": {},
     "output_type": "execute_result"
    }
   ],
   "source": [
    "df = pd.read_csv(\"magic04.data\", header=None)\n",
    "df.head(5)\n"
   ]
  },
  {
   "cell_type": "code",
   "execution_count": 16,
   "metadata": {},
   "outputs": [
    {
     "name": "stdout",
     "output_type": "stream",
     "text": [
      "0    2.013652\n",
      "1    3.371628\n",
      "2    0.875507\n",
      "3    0.485888\n",
      "4    0.685695\n",
      "5   -1.046441\n",
      "6   -1.123078\n",
      "7    0.120121\n",
      "8    0.850890\n",
      "9    0.229587\n",
      "dtype: float64\n"
     ]
    },
    {
     "data": {
      "image/png": "[encoded data removed]",
      "text/plain": [
       "<Figure size 1000x600 with 1 Axes>"
      ]
     },
     "metadata": {},
     "output_type": "display_data"
    }
   ],
   "source": [
    "# Calculate skewness of each feature\n",
    "import pandas as pd\n",
    "import matplotlib.pyplot as plt\n",
    "skewness = df.iloc[:, 0:10].skew(axis=0, skipna=True)\n",
    "print(skewness)\n",
    "\n",
    "\n",
    "# Create a DataFrame with skewness values and corresponding feature names\n",
    "features = [f\"Feature {i}\" for i in range(1, 11)]\n",
    "data = {'Feature': features, 'Skewness': skewness}\n",
    "df_skewness = pd.DataFrame(data)\n",
    "\n",
    "# Create a histogram\n",
    "plt.figure(figsize=(10, 6))\n",
    "plt.bar(df_skewness['Feature'], df_skewness['Skewness'], color='skyblue')\n",
    "plt.xlabel('Features')\n",
    "plt.ylabel('Skewness')\n",
    "plt.title('Skewness of Features')\n",
    "plt.xticks(rotation=45)\n",
    "plt.tight_layout()\n",
    "\n",
    "# Show the plot\n",
    "plt.show()\n"
   ]
  },
  {
   "cell_type": "markdown",
   "metadata": {},
   "source": [
    "#### Step 2: Pre Processing"
   ]
  },
  {
   "cell_type": "code",
   "execution_count": 17,
   "metadata": {},
   "outputs": [
    {
     "data": {
      "text/html": [
       "<div>\n",
       "<style scoped>\n",
       "    .dataframe tbody tr th:only-of-type {\n",
       "        vertical-align: middle;\n",
       "    }\n",
       "\n",
       "    .dataframe tbody tr th {\n",
       "        vertical-align: top;\n",
       "    }\n",
       "\n",
       "    .dataframe thead th {\n",
       "        text-align: right;\n",
       "    }\n",
       "</style>\n",
       "<table border=\"1\" class=\"dataframe\">\n",
       "  <thead>\n",
       "    <tr style=\"text-align: right;\">\n",
       "      <th></th>\n",
       "      <th>0</th>\n",
       "      <th>1</th>\n",
       "      <th>2</th>\n",
       "      <th>3</th>\n",
       "      <th>4</th>\n",
       "      <th>5</th>\n",
       "      <th>6</th>\n",
       "      <th>7</th>\n",
       "      <th>8</th>\n",
       "      <th>9</th>\n",
       "    </tr>\n",
       "  </thead>\n",
       "  <tbody>\n",
       "    <tr>\n",
       "      <th>0</th>\n",
       "      <td>28.7967</td>\n",
       "      <td>16.0021</td>\n",
       "      <td>2.6449</td>\n",
       "      <td>0.3918</td>\n",
       "      <td>0.1982</td>\n",
       "      <td>27.7004</td>\n",
       "      <td>22.0110</td>\n",
       "      <td>-8.2027</td>\n",
       "      <td>40.0920</td>\n",
       "      <td>81.8828</td>\n",
       "    </tr>\n",
       "    <tr>\n",
       "      <th>1</th>\n",
       "      <td>31.6036</td>\n",
       "      <td>11.7235</td>\n",
       "      <td>2.5185</td>\n",
       "      <td>0.5303</td>\n",
       "      <td>0.3773</td>\n",
       "      <td>26.2722</td>\n",
       "      <td>23.8238</td>\n",
       "      <td>-9.9574</td>\n",
       "      <td>6.3609</td>\n",
       "      <td>205.2610</td>\n",
       "    </tr>\n",
       "    <tr>\n",
       "      <th>2</th>\n",
       "      <td>162.0520</td>\n",
       "      <td>136.0310</td>\n",
       "      <td>4.0612</td>\n",
       "      <td>0.0374</td>\n",
       "      <td>0.0187</td>\n",
       "      <td>116.7410</td>\n",
       "      <td>-64.8580</td>\n",
       "      <td>-45.2160</td>\n",
       "      <td>76.9600</td>\n",
       "      <td>256.7880</td>\n",
       "    </tr>\n",
       "    <tr>\n",
       "      <th>3</th>\n",
       "      <td>23.8172</td>\n",
       "      <td>9.5728</td>\n",
       "      <td>2.3385</td>\n",
       "      <td>0.6147</td>\n",
       "      <td>0.3922</td>\n",
       "      <td>27.2107</td>\n",
       "      <td>-6.4633</td>\n",
       "      <td>-7.1513</td>\n",
       "      <td>10.4490</td>\n",
       "      <td>116.7370</td>\n",
       "    </tr>\n",
       "    <tr>\n",
       "      <th>4</th>\n",
       "      <td>75.1362</td>\n",
       "      <td>30.9205</td>\n",
       "      <td>3.1611</td>\n",
       "      <td>0.3168</td>\n",
       "      <td>0.1832</td>\n",
       "      <td>-5.5277</td>\n",
       "      <td>28.5525</td>\n",
       "      <td>21.8393</td>\n",
       "      <td>4.6480</td>\n",
       "      <td>356.4620</td>\n",
       "    </tr>\n",
       "  </tbody>\n",
       "</table>\n",
       "</div>"
      ],
      "text/plain": [
       "          0         1       2       3       4         5        6        7  \\\n",
       "0   28.7967   16.0021  2.6449  0.3918  0.1982   27.7004  22.0110  -8.2027   \n",
       "1   31.6036   11.7235  2.5185  0.5303  0.3773   26.2722  23.8238  -9.9574   \n",
       "2  162.0520  136.0310  4.0612  0.0374  0.0187  116.7410 -64.8580 -45.2160   \n",
       "3   23.8172    9.5728  2.3385  0.6147  0.3922   27.2107  -6.4633  -7.1513   \n",
       "4   75.1362   30.9205  3.1611  0.3168  0.1832   -5.5277  28.5525  21.8393   \n",
       "\n",
       "         8         9  \n",
       "0  40.0920   81.8828  \n",
       "1   6.3609  205.2610  \n",
       "2  76.9600  256.7880  \n",
       "3  10.4490  116.7370  \n",
       "4   4.6480  356.4620  "
      ]
     },
     "execution_count": 17,
     "metadata": {},
     "output_type": "execute_result"
    }
   ],
   "source": [
    "X = df.iloc[:, 0:10]\n",
    "X.head()\n"
   ]
  },
  {
   "cell_type": "code",
   "execution_count": 18,
   "metadata": {},
   "outputs": [],
   "source": [
    "y = df[10]\n"
   ]
  },
  {
   "cell_type": "markdown",
   "metadata": {},
   "source": [
    "#### Step 2a: Perform scaling on the data"
   ]
  },
  {
   "cell_type": "code",
   "execution_count": 19,
   "metadata": {},
   "outputs": [
    {
     "data": {
      "text/html": [
       "<div>\n",
       "<style scoped>\n",
       "    .dataframe tbody tr th:only-of-type {\n",
       "        vertical-align: middle;\n",
       "    }\n",
       "\n",
       "    .dataframe tbody tr th {\n",
       "        vertical-align: top;\n",
       "    }\n",
       "\n",
       "    .dataframe thead th {\n",
       "        text-align: right;\n",
       "    }\n",
       "</style>\n",
       "<table border=\"1\" class=\"dataframe\">\n",
       "  <thead>\n",
       "    <tr style=\"text-align: right;\">\n",
       "      <th></th>\n",
       "      <th>0</th>\n",
       "      <th>1</th>\n",
       "      <th>2</th>\n",
       "      <th>3</th>\n",
       "      <th>4</th>\n",
       "      <th>5</th>\n",
       "      <th>6</th>\n",
       "      <th>7</th>\n",
       "      <th>8</th>\n",
       "      <th>9</th>\n",
       "    </tr>\n",
       "  </thead>\n",
       "  <tbody>\n",
       "    <tr>\n",
       "      <th>count</th>\n",
       "      <td>1.902000e+04</td>\n",
       "      <td>1.902000e+04</td>\n",
       "      <td>1.902000e+04</td>\n",
       "      <td>1.902000e+04</td>\n",
       "      <td>1.902000e+04</td>\n",
       "      <td>1.902000e+04</td>\n",
       "      <td>1.902000e+04</td>\n",
       "      <td>1.902000e+04</td>\n",
       "      <td>1.902000e+04</td>\n",
       "      <td>1.902000e+04</td>\n",
       "    </tr>\n",
       "    <tr>\n",
       "      <th>mean</th>\n",
       "      <td>7.172671e-17</td>\n",
       "      <td>-1.195445e-16</td>\n",
       "      <td>-2.241460e-16</td>\n",
       "      <td>-3.025971e-16</td>\n",
       "      <td>1.128201e-16</td>\n",
       "      <td>-5.977226e-18</td>\n",
       "      <td>4.184058e-17</td>\n",
       "      <td>-9.712992e-18</td>\n",
       "      <td>1.195445e-17</td>\n",
       "      <td>-8.965839e-18</td>\n",
       "    </tr>\n",
       "    <tr>\n",
       "      <th>std</th>\n",
       "      <td>1.000026e+00</td>\n",
       "      <td>1.000026e+00</td>\n",
       "      <td>1.000026e+00</td>\n",
       "      <td>1.000026e+00</td>\n",
       "      <td>1.000026e+00</td>\n",
       "      <td>1.000026e+00</td>\n",
       "      <td>1.000026e+00</td>\n",
       "      <td>1.000026e+00</td>\n",
       "      <td>1.000026e+00</td>\n",
       "      <td>1.000026e+00</td>\n",
       "    </tr>\n",
       "    <tr>\n",
       "      <th>min</th>\n",
       "      <td>-1.155862e+00</td>\n",
       "      <td>-1.209064e+00</td>\n",
       "      <td>-1.869959e+00</td>\n",
       "      <td>-2.008809e+00</td>\n",
       "      <td>-1.939745e+00</td>\n",
       "      <td>-7.661315e+00</td>\n",
       "      <td>-6.712427e+00</td>\n",
       "      <td>-9.897993e+00</td>\n",
       "      <td>-1.059103e+00</td>\n",
       "      <td>-2.576420e+00</td>\n",
       "    </tr>\n",
       "    <tr>\n",
       "      <th>25%</th>\n",
       "      <td>-6.825213e-01</td>\n",
       "      <td>-5.623790e-01</td>\n",
       "      <td>-7.361978e-01</td>\n",
       "      <td>-7.905934e-01</td>\n",
       "      <td>-7.798731e-01</td>\n",
       "      <td>-2.745535e-01</td>\n",
       "      <td>-4.586055e-01</td>\n",
       "      <td>-5.329216e-01</td>\n",
       "      <td>-8.465631e-01</td>\n",
       "      <td>-6.868179e-01</td>\n",
       "    </tr>\n",
       "    <tr>\n",
       "      <th>50%</th>\n",
       "      <td>-3.800999e-01</td>\n",
       "      <td>-2.747838e-01</td>\n",
       "      <td>-1.807437e-01</td>\n",
       "      <td>-1.431941e-01</td>\n",
       "      <td>-1.643062e-01</td>\n",
       "      <td>1.409487e-01</td>\n",
       "      <td>9.350332e-02</td>\n",
       "      <td>1.999694e-02</td>\n",
       "      <td>-3.818041e-01</td>\n",
       "      <td>-2.631582e-02</td>\n",
       "    </tr>\n",
       "    <tr>\n",
       "      <th>75%</th>\n",
       "      <td>3.982656e-01</td>\n",
       "      <td>1.394619e-01</td>\n",
       "      <td>5.852541e-01</td>\n",
       "      <td>6.748758e-01</td>\n",
       "      <td>6.385776e-01</td>\n",
       "      <td>4.796163e-01</td>\n",
       "      <td>4.959385e-01</td>\n",
       "      <td>5.136004e-01</td>\n",
       "      <td>6.986894e-01</td>\n",
       "      <td>6.255307e-01</td>\n",
       "    </tr>\n",
       "    <tr>\n",
       "      <th>max</th>\n",
       "      <td>6.631304e+00</td>\n",
       "      <td>1.276608e+01</td>\n",
       "      <td>5.286407e+00</td>\n",
       "      <td>2.804429e+00</td>\n",
       "      <td>4.167511e+00</td>\n",
       "      <td>9.789330e+00</td>\n",
       "      <td>4.466292e+00</td>\n",
       "      <td>8.623528e+00</td>\n",
       "      <td>2.388785e+00</td>\n",
       "      <td>4.037785e+00</td>\n",
       "    </tr>\n",
       "  </tbody>\n",
       "</table>\n",
       "</div>"
      ],
      "text/plain": [
       "                  0             1             2             3             4  \\\n",
       "count  1.902000e+04  1.902000e+04  1.902000e+04  1.902000e+04  1.902000e+04   \n",
       "mean   7.172671e-17 -1.195445e-16 -2.241460e-16 -3.025971e-16  1.128201e-16   \n",
       "std    1.000026e+00  1.000026e+00  1.000026e+00  1.000026e+00  1.000026e+00   \n",
       "min   -1.155862e+00 -1.209064e+00 -1.869959e+00 -2.008809e+00 -1.939745e+00   \n",
       "25%   -6.825213e-01 -5.623790e-01 -7.361978e-01 -7.905934e-01 -7.798731e-01   \n",
       "50%   -3.800999e-01 -2.747838e-01 -1.807437e-01 -1.431941e-01 -1.643062e-01   \n",
       "75%    3.982656e-01  1.394619e-01  5.852541e-01  6.748758e-01  6.385776e-01   \n",
       "max    6.631304e+00  1.276608e+01  5.286407e+00  2.804429e+00  4.167511e+00   \n",
       "\n",
       "                  5             6             7             8             9  \n",
       "count  1.902000e+04  1.902000e+04  1.902000e+04  1.902000e+04  1.902000e+04  \n",
       "mean  -5.977226e-18  4.184058e-17 -9.712992e-18  1.195445e-17 -8.965839e-18  \n",
       "std    1.000026e+00  1.000026e+00  1.000026e+00  1.000026e+00  1.000026e+00  \n",
       "min   -7.661315e+00 -6.712427e+00 -9.897993e+00 -1.059103e+00 -2.576420e+00  \n",
       "25%   -2.745535e-01 -4.586055e-01 -5.329216e-01 -8.465631e-01 -6.868179e-01  \n",
       "50%    1.409487e-01  9.350332e-02  1.999694e-02 -3.818041e-01 -2.631582e-02  \n",
       "75%    4.796163e-01  4.959385e-01  5.136004e-01  6.986894e-01  6.255307e-01  \n",
       "max    9.789330e+00  4.466292e+00  8.623528e+00  2.388785e+00  4.037785e+00  "
      ]
     },
     "execution_count": 19,
     "metadata": {},
     "output_type": "execute_result"
    }
   ],
   "source": [
    "from sklearn.preprocessing import StandardScaler\n",
    "scale = StandardScaler()\n",
    "X = scale.fit_transform(X)\n",
    "\n",
    "pd.DataFrame(X).describe()\n"
   ]
  },
  {
   "cell_type": "markdown",
   "metadata": {},
   "source": [
    "#### Step 2b: Encode Y column (g, h)\n"
   ]
  },
  {
   "cell_type": "code",
   "execution_count": 20,
   "metadata": {},
   "outputs": [
    {
     "data": {
      "text/plain": [
       "10\n",
       "1    12332\n",
       "0     6688\n",
       "Name: count, dtype: int64"
      ]
     },
     "execution_count": 20,
     "metadata": {},
     "output_type": "execute_result"
    }
   ],
   "source": [
    "# Encode the columns manually\n",
    "# Change 'g' to 1 and 'h' to 0\n",
    "y = y.replace('g', 1)\n",
    "y = y.replace('h', 0)\n",
    "\n",
    "y.value_counts()\n"
   ]
  },
  {
   "cell_type": "markdown",
   "metadata": {},
   "source": [
    "#### Step 2c: Split the data into training and testing sets\n"
   ]
  },
  {
   "cell_type": "code",
   "execution_count": 21,
   "metadata": {},
   "outputs": [
    {
     "name": "stdout",
     "output_type": "stream",
     "text": [
      "X_train shape: (12743, 10)\n",
      "X_test shape: (6277, 10)\n",
      "y_train shape: (12743,)\n",
      "Y_test shape: (6277,)\n"
     ]
    }
   ],
   "source": [
    "from sklearn.model_selection import train_test_split\n",
    "\n",
    "# Split the data into training and testing sets (2/3 training, 1/3 testing)\n",
    "X_train, X_test, y_train, y_test = train_test_split(X, y, test_size=0.33)\n",
    "\n",
    "# See the shape of the training and testing sets\n",
    "print(\"X_train shape:\", X_train.shape)\n",
    "print(\"X_test shape:\", X_test.shape)\n",
    "print(\"y_train shape:\", y_train.shape)\n",
    "print(\"Y_test shape:\", y_test.shape)\n"
   ]
  },
  {
   "cell_type": "markdown",
   "metadata": {},
   "source": [
    "#### Step 3: Keras Model\n"
   ]
  },
  {
   "cell_type": "code",
   "execution_count": 22,
   "metadata": {},
   "outputs": [],
   "source": [
    "from keras.models import Sequential\n",
    "from keras import layers\n",
    "\n",
    "# Use ANN to predict gamma or hardon\n",
    "# Use 2 hidden layers\n",
    "# Any ANN architecture is allowed\n",
    "\n",
    "model = Sequential([\n",
    "    layers.Dense(16, activation='relu', input_shape=(10,)),  # 10 input neurons\n",
    "    layers.Dense(10, activation='relu'),\n",
    "    layers.Dense(1, activation='sigmoid')  # 1 output neuron\n",
    "])\n",
    "\n",
    "# Compile model\n",
    "model.compile(optimizer='adam', loss='binary_crossentropy',\n",
    "              metrics=['accuracy'])\n"
   ]
  },
  {
   "cell_type": "code",
   "execution_count": 23,
   "metadata": {},
   "outputs": [
    {
     "name": "stdout",
     "output_type": "stream",
     "text": [
      "Epoch 1/10\n"
     ]
    },
    {
     "name": "stdout",
     "output_type": "stream",
     "text": [
      "1275/1275 [==============================] - 1s 546us/step - loss: 0.4350 - accuracy: 0.7976 - val_loss: 0.3701 - val_accuracy: 0.8397\n",
      "Epoch 2/10\n",
      "1275/1275 [==============================] - 1s 475us/step - loss: 0.3588 - accuracy: 0.8500 - val_loss: 0.3470 - val_accuracy: 0.8545\n",
      "Epoch 3/10\n",
      "1275/1275 [==============================] - 1s 482us/step - loss: 0.3415 - accuracy: 0.8572 - val_loss: 0.3377 - val_accuracy: 0.8577\n",
      "Epoch 4/10\n",
      "1275/1275 [==============================] - 1s 511us/step - loss: 0.3345 - accuracy: 0.8603 - val_loss: 0.3335 - val_accuracy: 0.8657\n",
      "Epoch 5/10\n",
      "1275/1275 [==============================] - 1s 491us/step - loss: 0.3292 - accuracy: 0.8625 - val_loss: 0.3242 - val_accuracy: 0.8654\n",
      "Epoch 6/10\n",
      "1275/1275 [==============================] - 1s 504us/step - loss: 0.3246 - accuracy: 0.8650 - val_loss: 0.3211 - val_accuracy: 0.8662\n",
      "Epoch 7/10\n",
      "1275/1275 [==============================] - 1s 608us/step - loss: 0.3219 - accuracy: 0.8668 - val_loss: 0.3185 - val_accuracy: 0.8668\n",
      "Epoch 8/10\n",
      "1275/1275 [==============================] - 1s 516us/step - loss: 0.3202 - accuracy: 0.8678 - val_loss: 0.3201 - val_accuracy: 0.8632\n",
      "Epoch 9/10\n",
      "1275/1275 [==============================] - 1s 489us/step - loss: 0.3186 - accuracy: 0.8682 - val_loss: 0.3150 - val_accuracy: 0.8687\n",
      "Epoch 10/10\n",
      "1275/1275 [==============================] - 1s 530us/step - loss: 0.3169 - accuracy: 0.8682 - val_loss: 0.3167 - val_accuracy: 0.8678\n"
     ]
    }
   ],
   "source": [
    "# Fit data into model\n",
    "model_output = model.fit(X_train, y_train, epochs=10,\n",
    "                         batch_size=10, validation_data=(X_test, y_test))\n"
   ]
  },
  {
   "cell_type": "markdown",
   "metadata": {},
   "source": [
    "#### Step 4: Evaluate the model"
   ]
  },
  {
   "cell_type": "markdown",
   "metadata": {},
   "source": [
    "##### Step 4a: Evalute the model using the training data"
   ]
  },
  {
   "cell_type": "code",
   "execution_count": 24,
   "metadata": {},
   "outputs": [
    {
     "name": "stdout",
     "output_type": "stream",
     "text": [
      "399/399 [==============================] - 0s 301us/step - loss: 0.3137 - accuracy: 0.8694\n",
      "399/399 [==============================] - 0s 241us/step\n"
     ]
    },
    {
     "data": {
      "text/plain": [
       "array([[0.9870982 ],\n",
       "       [0.91422385],\n",
       "       [0.41936666],\n",
       "       ...,\n",
       "       [0.82680446],\n",
       "       [0.62790924],\n",
       "       [0.9837348 ]], dtype=float32)"
      ]
     },
     "execution_count": 24,
     "metadata": {},
     "output_type": "execute_result"
    }
   ],
   "source": [
    "# evaluating and predicting the model\n",
    "model.evaluate(X_train, y_train)\n",
    "model.predict(X_train)\n"
   ]
  },
  {
   "cell_type": "markdown",
   "metadata": {},
   "source": [
    "#### Step 4b: Evalute the model using the testing data"
   ]
  },
  {
   "cell_type": "code",
   "execution_count": 25,
   "metadata": {},
   "outputs": [
    {
     "name": "stdout",
     "output_type": "stream",
     "text": [
      "197/197 [==============================] - 0s 375us/step - loss: 0.3167 - accuracy: 0.8678\n",
      "197/197 [==============================] - 0s 280us/step\n"
     ]
    },
    {
     "data": {
      "text/plain": [
       "array([[0.80010927],\n",
       "       [0.9947954 ],\n",
       "       [0.10353739],\n",
       "       ...,\n",
       "       [0.47862267],\n",
       "       [0.8210229 ],\n",
       "       [0.00343972]], dtype=float32)"
      ]
     },
     "execution_count": 25,
     "metadata": {},
     "output_type": "execute_result"
    }
   ],
   "source": [
    "# evaluating and predicting the model\n",
    "model.evaluate(X_test, y_test)\n",
    "model.predict(X_test)\n"
   ]
  },
  {
   "cell_type": "markdown",
   "metadata": {},
   "source": [
    "#### Accuracy of Training data: 0.8694\n",
    "#### Accuracy of Testing data: 0.8678"
   ]
  },
  {
   "cell_type": "markdown",
   "metadata": {},
   "source": [
    "#### Step 5: Hyperparameter Tuning"
   ]
  },
  {
   "cell_type": "code",
   "execution_count": 27,
   "metadata": {},
   "outputs": [],
   "source": [
    "from scikeras.wrappers import KerasClassifier\n",
    "from keras.layers import Dense\n",
    "\n",
    "\n",
    "def create_model(n_hidden=2, n_neurons=16, a=0.01, b=0.01, input_shape=[10]):\n",
    "    model = Sequential()\n",
    "\n",
    "    # Input layer\n",
    "    model.add(keras.layers.Dense(\n",
    "        n_neurons, activation='relu', input_shape=input_shape))\n",
    "\n",
    "    # Hidden layers\n",
    "    for layer in range(n_hidden):\n",
    "        model.add(keras.layers.Dense(n_neurons, activation='relu',\n",
    "                                     kernel_regularizer=keras.regularizers.l1_l2(l1=a, l2=b)))\n",
    "\n",
    "    # Output layer\n",
    "    model.add(keras.layers.Dense(1))\n",
    "\n",
    "    model.compile(loss='binary_crossentropy',\n",
    "                  optimizer='adam', metrics=['accuracy'])\n",
    "    return model\n",
    "\n",
    "\n",
    "# Create a KerasRegressor with the build_model function\n",
    "model_fine_tune = KerasClassifier(model=create_model, verbose=0)\n"
   ]
  },
  {
   "cell_type": "code",
   "execution_count": 28,
   "metadata": {},
   "outputs": [],
   "source": [
    "# Using GridSearchCV to find the best params for the model\n",
    "from sklearn.model_selection import GridSearchCV\n",
    "\n",
    "# Create the parameter grid based on the results of random search\n",
    "param_grid = {\n",
    "    'n_hidden': [1, 2, 5],\n",
    "    'n_neurons': [10, 16, 20],\n",
    "    'a': [0.1, 0.001],\n",
    "    'b': [0.1, 0.001]\n",
    "}\n"
   ]
  },
  {
   "cell_type": "code",
   "execution_count": 29,
   "metadata": {},
   "outputs": [
    {
     "data": {
      "text/plain": [
       "dict_keys(['model', 'build_fn', 'warm_start', 'random_state', 'optimizer', 'loss', 'metrics', 'batch_size', 'validation_batch_size', 'verbose', 'callbacks', 'validation_split', 'shuffle', 'run_eagerly', 'epochs', 'class_weight'])"
      ]
     },
     "execution_count": 29,
     "metadata": {},
     "output_type": "execute_result"
    }
   ],
   "source": [
    "model_fine_tune.get_params().keys()\n"
   ]
  },
  {
   "cell_type": "code",
   "execution_count": 30,
   "metadata": {},
   "outputs": [
    {
     "data": {
      "text/plain": [
       "0.8639259524312488"
      ]
     },
     "execution_count": 30,
     "metadata": {},
     "output_type": "execute_result"
    }
   ],
   "source": [
    "# Create parameter grid that is valid\n",
    "param_grid = {\n",
    "    'batch_size': [5, 10, 15],\n",
    "    'epochs': [50, 100],\n",
    "    'optimizer': ['adam', 'sgd']\n",
    "}\n",
    "\n",
    "# Using GridSearchCV to find the best params for the model\n",
    "grid = GridSearchCV(estimator=model_fine_tune, param_grid=param_grid, cv=5)\n",
    "grid_result = grid.fit(X_train, y_train, validation_data=(X_test, y_test))\n",
    "grid_result.best_params_\n",
    "grid_result.best_score_\n"
   ]
  },
  {
   "cell_type": "code",
   "execution_count": 31,
   "metadata": {},
   "outputs": [
    {
     "name": "stdout",
     "output_type": "stream",
     "text": [
      "RESULTS:\n",
      "Best parameters: {'batch_size': 15, 'epochs': 100, 'optimizer': 'sgd'}\n",
      "Best score: 0.863926\n",
      "Best estimator: KerasClassifier(\n",
      "\tmodel=<function create_model at 0x281314c10>\n",
      "\tbuild_fn=None\n",
      "\twarm_start=False\n",
      "\trandom_state=None\n",
      "\toptimizer=sgd\n",
      "\tloss=None\n",
      "\tmetrics=None\n",
      "\tbatch_size=15\n",
      "\tvalidation_batch_size=None\n",
      "\tverbose=0\n",
      "\tcallbacks=None\n",
      "\tvalidation_split=0.0\n",
      "\tshuffle=True\n",
      "\trun_eagerly=False\n",
      "\tepochs=100\n",
      "\tclass_weight=None\n",
      ")\n",
      "Scorer: <sklearn.metrics._scorer._PassthroughScorer object at 0x283055840>\n"
     ]
    }
   ],
   "source": [
    "print('RESULTS:')\n",
    "print(\"Best parameters: %s\" % grid_result.best_params_)\n",
    "print(\"Best score: %f\" % grid_result.best_score_)\n",
    "print(\"Best estimator: %s\" % grid_result.best_estimator_)\n",
    "print(\"Scorer: %s\" % grid_result.scorer_)\n"
   ]
  },
  {
   "cell_type": "markdown",
   "metadata": {},
   "source": [
    "#### Step 6: Result Analysis\n",
    "1. Best parameters for Scikeras' KerasClassifier:\n",
    "- batch_size: 15\n",
    "- epochs: 100\n",
    "- optimizer: sgd\n",
    "This results in best score of 0.863926\n",
    "2. Difference before fine tuning:\n",
    "- Accuracy of Training data: 0.8694\n",
    "- Accuracy of Testing data: 0.8678"
   ]
  }
 ],
 "metadata": {
  "kernelspec": {
   "display_name": "testEnv",
   "language": "python",
   "name": "python3"
  },
  "language_info": {
   "codemirror_mode": {
    "name": "ipython",
    "version": 3
   },
   "file_extension": ".py",
   "mimetype": "text/x-python",
   "name": "python",
   "nbconvert_exporter": "python",
   "pygments_lexer": "ipython3",
   "version": "3.10.10"
  },
  "orig_nbformat": 4
 },
 "nbformat": 4,
 "nbformat_minor": 2
}
