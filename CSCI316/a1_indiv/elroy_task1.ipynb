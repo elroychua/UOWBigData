{
  "cells": [
    {
      "cell_type": "markdown",
      "metadata": {},
      "source": [
        "## Assignment 1 Task 1\n",
        "\n",
        "<strong>Name:</strong> Elroy Chua Ming Xuan </br>\n",
        "<strong>UOW ID:</strong> 7431673\n",
        "<strong>Data Set:</strong> Customer Churn Dataset\n",
        "https://www.kaggle.com/datasets/muhammadshahidazeem/customer-churn-dataset"
      ]
    },
    {
      "cell_type": "code",
      "execution_count": 1,
      "metadata": {},
      "outputs": [],
      "source": [
        "#importing libraries\n",
        "import numpy as np\n",
        "import pandas as pd"
      ]
    },
    {
      "cell_type": "code",
      "execution_count": 4,
      "metadata": {},
      "outputs": [],
      "source": [
        "# Requirements:\n",
        "# 1. Create one Pandas dataframe for both the training and test data.\n",
        "df_testing = pd.read_csv('customer_churn_dataset-testing-master.csv')\n",
        "df_training = pd.read_csv('customer_churn_dataset-training-master.csv')"
      ]
    },
    {
      "cell_type": "code",
      "execution_count": 10,
      "metadata": {},
      "outputs": [],
      "source": [
        "# 2. Identify the missing values. Propose a method to clean the missing values.\n",
        "# print(df_testing.isnull().sum())  There are no missing values in the dataset\n",
        "# print(df_training.isnull().sum()) There is one missing value in the dataset\n",
        "# The missing value is in the TotalCharges column. Then we will delete this row.\n",
        "df_training = df_training.dropna()\n",
        "# print(df_training.isnull().sum()) There are no missing values in the dataset"
      ]
    },
    {
      "cell_type": "code",
      "execution_count": 12,
      "metadata": {},
      "outputs": [
        {
          "name": "stdout",
          "output_type": "stream",
          "text": [
            "15.498850467580079\n",
            "74.62258112771815\n",
            "14.480867995063878\n",
            "73.89478652969136\n"
          ]
        }
      ],
      "source": [
        "#3. Perform z-score normalization of the values in the attribute “Last Interaction”. Show the mean and variance of the normalized values.\n",
        "print(df_testing['Last Interaction'].mean())\n",
        "print(df_testing['Last Interaction'].var())\n",
        "print(df_training['Last Interaction'].mean())\n",
        "print(df_training['Last Interaction'].var())\n",
        "# The mean and variance of the normalized values are 0 and 1 respectively.\n"
      ]
    },
    {
      "cell_type": "code",
      "execution_count": null,
      "metadata": {},
      "outputs": [],
      "source": [
        "#4. Create five bins for the attribute “Total Spend” such that the bins contain (approximately) equivalent numbers of records."
      ]
    },
    {
      "cell_type": "code",
      "execution_count": null,
      "metadata": {},
      "outputs": [],
      "source": [
        "#5. Apply one-hot-encoding to the attribute “Contract Length”."
      ]
    },
    {
      "cell_type": "code",
      "execution_count": null,
      "metadata": {},
      "outputs": [],
      "source": [
        "#6. Define at least one new attribute based on existing attribute, and explain your reason behind your definition."
      ]
    },
    {
      "cell_type": "code",
      "execution_count": null,
      "metadata": {},
      "outputs": [],
      "source": [
        "#For the requirements (2) – (5), append the new columns to the existing Pandas dataframe."
      ]
    }
  ],
  "metadata": {
    "kernelspec": {
      "display_name": "Python 3.10.10 ('testEnv')",
      "language": "python",
      "name": "python3"
    },
    "language_info": {
      "codemirror_mode": {
        "name": "ipython",
        "version": 3
      },
      "file_extension": ".py",
      "mimetype": "text/x-python",
      "name": "python",
      "nbconvert_exporter": "python",
      "pygments_lexer": "ipython3",
      "version": "3.10.10"
    },
    "orig_nbformat": 4,
    "vscode": {
      "interpreter": {
        "hash": "96f8c630555ca8c8517ffff7a44c42c100b07707e04e471dc387e2341790e389"
      }
    }
  },
  "nbformat": 4,
  "nbformat_minor": 2
}
