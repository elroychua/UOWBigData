{
 "cells": [
  {
   "cell_type": "markdown",
   "metadata": {},
   "source": [
    "## Assignment 1 Task 2\n",
    "\n",
    "<strong>Name:</strong> Elroy Chua Ming Xuan </br>\n",
    "<strong>UOW ID: </strong> 7431673 </br>\n",
    "<strong>Data set: </strong> https://www.kaggle.com/datasets/muhammadshahidazeem/customer-churn-dataset"
   ]
  }
 ],
 "metadata": {
  "kernelspec": {
   "display_name": "Python 3.10.10 ('testEnv')",
   "language": "python",
   "name": "python3"
  },
  "language_info": {
   "name": "python",
   "version": "3.10.10"
  },
  "orig_nbformat": 4,
  "vscode": {
   "interpreter": {
    "hash": "96f8c630555ca8c8517ffff7a44c42c100b07707e04e471dc387e2341790e389"
   }
  }
 },
 "nbformat": 4,
 "nbformat_minor": 2
}
